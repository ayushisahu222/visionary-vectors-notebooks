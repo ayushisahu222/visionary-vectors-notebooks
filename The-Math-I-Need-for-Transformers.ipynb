{
 "cells": [
  {
   "cell_type": "markdown",
   "id": "eea3e043",
   "metadata": {},
   "source": [
    "# The Math I Need for Transformers — Notebook\n",
    "\n",
    "This notebook accompanies the Medium article *\"The Math I Need for Transformers\"*. It contains runnable, minimal examples that illustrate the key concepts: **dot product**, **softmax**, **cross-entropy loss**\n",
    "\n",
    "**How to use:** run cells from top to bottom. The code uses only `numpy` and `matplotlib` so it should run in any standard Python environment with those packages installed.\n",
    "\n",
    "---"
   ]
  },
  {
   "cell_type": "code",
   "execution_count": 33,
   "id": "d3b980cf",
   "metadata": {},
   "outputs": [],
   "source": [
    "# Uncomment this to install\n",
    "# ! pip install pandas numpy matplotlib  "
   ]
  },
  {
   "cell_type": "code",
   "execution_count": 15,
   "id": "d3d7dee7-c002-4a7e-8662-c1fccc5140c1",
   "metadata": {},
   "outputs": [],
   "source": [
    "import numpy as np\n",
    "import matplotlib.pyplot as plt"
   ]
  },
  {
   "cell_type": "markdown",
   "id": "59ccc92e",
   "metadata": {},
   "source": [
    "### 1 — Dot Product\n",
    "\n",
    "The dot product measures similarity between two vectors. If `a` and `b` are vectors, their dot product is $a\\cdot b = \\sum_i a_i b_i$.\n",
    "\n",
    "We'll show a numeric example and explain why it's useful as a similarity score in attention (queries × keys).\n",
    "\n",
    "Let's consider an example:\n",
    "\n",
    "“Where does the dog sleep at night?”\n",
    "\n",
    "The mechanism highlights the most relevant connections — focusing attention on “dog,” “sleep,” and “night.”"
   ]
  },
  {
   "cell_type": "code",
   "execution_count": 27,
   "id": "e19175c5",
   "metadata": {},
   "outputs": [
    {
     "name": "stdout",
     "output_type": "stream",
     "text": [
      "Dot product scores (similarities):\n",
      "where: 0.40, dog: 1.00, night: 7.50\n"
     ]
    }
   ],
   "source": [
    "# Suppose the model is focusing on the word \"sleep\" (the current token)\n",
    "# Word vectors (illustrative, not real embeddings)\n",
    "q_sleep = np.array([1.0, 2.0, 3.0])   # Query for \"sleep\"\n",
    "k_dog = np.array([1.0, 0.0, 0.0])     # Key for \"dog\"\n",
    "k_night = np.array([0.5, 2.0, 1.0])   # Key for \"night\"\n",
    "k_where = np.array([0.2, 0.1, 0.0])   # Key for \"where\" (less related)\n",
    "\n",
    "# Step 1: Compute attention scores (dot products)\n",
    "dot_dog = q_sleep.dot(k_dog)\n",
    "dot_night = q_sleep.dot(k_night)\n",
    "dot_where = q_sleep.dot(k_where)\n",
    "\n",
    "print(\"Dot product scores (similarities):\")\n",
    "print(f\"where: {dot_where:.2f}, dog: {dot_dog:.2f}, night: {dot_night:.2f}\")"
   ]
  },
  {
   "cell_type": "markdown",
   "id": "2fb873d9",
   "metadata": {},
   "source": [
    "### 2 — Softmax\n",
    "\n",
    "Softmax converts scores (logits) into a probability distribution that sums to 1: $$\\text{softmax}(z)_i = \\dfrac{e^{z_i}}{\\sum_j e^{z_j}}.$$ \n",
    "\n",
    "We compute softmax on the dot-product scores above and visualize the distribution."
   ]
  },
  {
   "cell_type": "code",
   "execution_count": 24,
   "id": "d878f31a-b9c5-470f-9acf-b05829daf872",
   "metadata": {},
   "outputs": [],
   "source": [
    "def softmax(z):\n",
    "    z = np.array(z)\n",
    "    z = z - np.max(z)  # for numerical stability\n",
    "    expz = np.exp(z)\n",
    "    return expz / np.sum(expz)"
   ]
  },
  {
   "cell_type": "code",
   "execution_count": 28,
   "id": "9d7ddd70",
   "metadata": {},
   "outputs": [
    {
     "name": "stdout",
     "output_type": "stream",
     "text": [
      "\n",
      "Attention probabilities (after softmax):\n",
      "where: 0.001, dog: 0.001, night: 0.998\n"
     ]
    }
   ],
   "source": [
    "# Step 2: Combine scores into a single array\n",
    "scores = np.array([dot_where, dot_dog, dot_night])\n",
    "\n",
    "# Step 3: Apply softmax to get attention probabilities\n",
    "probs = softmax(scores)\n",
    "\n",
    "print(\"\\nAttention probabilities (after softmax):\")\n",
    "print(f\"where: {probs[0]:.3f}, dog: {probs[1]:.3f}, night: {probs[2]:.3f}\")"
   ]
  },
  {
   "cell_type": "code",
   "execution_count": 29,
   "id": "a530be9d",
   "metadata": {},
   "outputs": [
    {
     "data": {
      "image/png": "[encoded data removed]",
      "text/plain": [
       "<Figure size 640x480 with 1 Axes>"
      ]
     },
     "metadata": {},
     "output_type": "display_data"
    }
   ],
   "source": [
    "# Visualize softmax distribution\n",
    "labels = ['where', 'dog', 'night']\n",
    "plt.figure()\n",
    "plt.bar(labels, probs)\n",
    "plt.title('Softmax of example scores')\n",
    "plt.ylabel('Probability')\n",
    "plt.xlabel('Score index')\n",
    "plt.show()\n"
   ]
  },
  {
   "cell_type": "markdown",
   "id": "0a86bcfe",
   "metadata": {},
   "source": [
    "### 3 — Cross-Entropy Loss\n",
    "\n",
    "For classification (one-hot labels), cross-entropy between true label `y` and predicted probabilities `p` is:\n",
    "$$L = -\\sum_i y_i \\log p_i.$$ \n",
    "\n",
    "We'll compute cross-entropy for a toy true label and also show the gradient of loss w.r.t. logits for softmax+cross-entropy (the well-known simplification)."
   ]
  },
  {
   "cell_type": "code",
   "execution_count": 32,
   "id": "6303732e",
   "metadata": {},
   "outputs": [
    {
     "name": "stdout",
     "output_type": "stream",
     "text": [
      "True label (y): [0 0 1]\n",
      "Cross-entropy loss: 6.5023\n"
     ]
    }
   ],
   "source": [
    "# Suppose true class is index 1 (dot2)\n",
    "y_true = np.array([0, 0, 1])  # one-hot vector for \"night\"\n",
    "\n",
    "p = probs\n",
    "\n",
    "# cross-entropy\n",
    "cross_entropy = -np.sum(y * np.log(p + 1e-12))\n",
    "\n",
    "print(\"True label (y):\", y_true)\n",
    "print(\"Cross-entropy loss:\", round(cross_entropy, 4))"
   ]
  },
  {
   "cell_type": "markdown",
   "id": "3eecf271",
   "metadata": {},
   "source": [
    "### Closing notes\n",
    "\n",
    "These small examples mirror the internal math that powers how models like ChatGPT decide which words attend to which others.\n",
    "\n",
    "In our case, the query word \"sleep\" learned to attend most strongly to \"dog\" and \"night\", just as a real transformer layer would.\n"
   ]
  },
  {
   "cell_type": "code",
   "execution_count": null,
   "id": "d20b1353-e369-4b9c-a829-ffc06124ada8",
   "metadata": {},
   "outputs": [],
   "source": []
  }
 ],
 "metadata": {
  "kernelspec": {
   "display_name": "Python 3 (ipykernel)",
   "language": "python",
   "name": "python3"
  },
  "language_info": {
   "codemirror_mode": {
    "name": "ipython",
    "version": 3
   },
   "file_extension": ".py",
   "mimetype": "text/x-python",
   "name": "python",
   "nbconvert_exporter": "python",
   "pygments_lexer": "ipython3",
   "version": "3.12.10"
  }
 },
 "nbformat": 4,
 "nbformat_minor": 5
}
